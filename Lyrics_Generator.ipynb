{
 "cells": [
  {
   "cell_type": "code",
   "execution_count": 1,
   "metadata": {},
   "outputs": [],
   "source": [
    "import string\n",
    "import random\n",
    "import re\n",
    "from recurrent_network import RNN, RNNLyricsGenerator\n",
    "from Phyme import Phyme\n",
    "import torch\n",
    "from torch.autograd import Variable"
   ]
  },
  {
   "cell_type": "code",
   "execution_count": 2,
   "metadata": {},
   "outputs": [],
   "source": [
    "def revert(data):\n",
    "    lines = data.split('\\n')\n",
    "    lines = [x[::-1] for x in lines]\n",
    "    lines = '\\n'.join(lines)\n",
    "    return lines"
   ]
  },
  {
   "cell_type": "code",
   "execution_count": 3,
   "metadata": {},
   "outputs": [],
   "source": [
    "def extract_unique_words(data):\n",
    "    words = set()\n",
    "    lines = data.split('\\n')\n",
    "    for l in lines:\n",
    "        line_words = l.split(' ')\n",
    "        for word in line_words:\n",
    "            normalized_word = re.sub(r'\\W+', '', word).lower()\n",
    "            words.add(normalized_word)\n",
    "    return words"
   ]
  },
  {
   "cell_type": "code",
   "execution_count": 4,
   "metadata": {},
   "outputs": [],
   "source": [
    "def find_rhyme(word):\n",
    "    rhymes = set()\n",
    "    candidates = []\n",
    "    ph = Phyme()    \n",
    "    rhyme_space = [ph.get_additive_rhymes, ph.get_perfect_rhymes, ph.get_subtractive_rhymes]\n",
    "    for method in rhyme_space:\n",
    "        all_rhymes = method(word)\n",
    "        for syl in all_rhymes:\n",
    "            for r in all_rhymes[syl]:\n",
    "                if r in words:\n",
    "                    rhymes.add(r)\n",
    "    if len(rhymes) == 0:\n",
    "        return ''\n",
    "    return random.choice(list(rhymes))"
   ]
  },
  {
   "cell_type": "code",
   "execution_count": 5,
   "metadata": {},
   "outputs": [],
   "source": [
    "n_characters = len(string.printable)\n",
    "\n",
    "with open('DataScraper/all_lyrics.txt', 'r', encoding='utf-8') as f:\n",
    "    lyrics = f.read()\n",
    "    reverted_lyrics = revert(lyrics)\n",
    "len(lyrics)\n",
    "words = extract_unique_words(lyrics)"
   ]
  },
  {
   "cell_type": "code",
   "execution_count": 6,
   "metadata": {},
   "outputs": [],
   "source": [
    "n_epochs = 1000\n",
    "hidden_size = 200\n",
    "n_layers = 1"
   ]
  },
  {
   "cell_type": "code",
   "execution_count": 7,
   "metadata": {},
   "outputs": [],
   "source": [
    "forward_decoder = RNN(n_characters, hidden_size, n_characters, n_layers)\n",
    "backward_decoder = RNN(n_characters, hidden_size, n_characters, n_layers)"
   ]
  },
  {
   "cell_type": "code",
   "execution_count": 8,
   "metadata": {},
   "outputs": [],
   "source": [
    "forward_generator = RNNLyricsGenerator(forward_decoder, chunk_size=1000)\n",
    "backward_generator = RNNLyricsGenerator(backward_decoder, chunk_size=1000)"
   ]
  },
  {
   "cell_type": "code",
   "execution_count": 9,
   "metadata": {
    "scrolled": true
   },
   "outputs": [
    {
     "name": "stdout",
     "output_type": "stream",
     "text": [
      "[9m 37s (500 50%) 1.7537]\n",
      "Whit\n",
      "Fuck the came nogetta litts paying these I dian-Cring lit to to brees\n",
      "I doncal up the stry\n",
      "Droom  \n",
      "\n",
      "[19m 23s (1000 100%) 1.6288]\n",
      "Whe Guck say 'em notain\n",
      "Thing you everybody for em\n",
      "Sh you for they percot you and 'tad, they tat so kn \n",
      "\n"
     ]
    }
   ],
   "source": [
    "forward_generator.train(lyrics, n_epochs, print_every=500)"
   ]
  },
  {
   "cell_type": "code",
   "execution_count": 10,
   "metadata": {},
   "outputs": [
    {
     "name": "stdout",
     "output_type": "stream",
     "text": [
      "[1m 55s (100 10%) 1.9512]\n",
      "Wh I\n",
      "hcnof s'ti won I\n",
      "m'I llail seowt sid eveht tsuac pu wol t'nam ym ....tog dnA\n",
      "sad od ,tsub I\n",
      "dlots \n",
      "\n",
      "[3m 53s (200 20%) 2.0109]\n",
      "Wh\n",
      "ttup ekil ll''nilloc emad eht saw ti tog I ,ay a ,os teg annaa yeht nrukver ahw I\n",
      "tsal new teg a ,h \n",
      "\n",
      "[5m 52s (300 30%) 1.9700]\n",
      "WhQ p taht kcab snam ym no rof dna yalp reve dna uoy ekil I ti kcil eveno-oocA\n",
      "?ot ti epmol I tog I su \n",
      "\n",
      "[7m 49s (400 40%) 1.6036]\n",
      "WhU ta saggin I tI\n",
      " ruo aggiN\n",
      "llac ehS\n",
      " teg I dluohs ,dic emarc dnA\n",
      "M esuac annaw ,uoy a ,ti teg flif  \n",
      "\n",
      "[9m 47s (500 50%) 1.8295]\n",
      "WhT\n",
      "drah I\n",
      "yssarc dellip eht fo lla ot tahw ni saw I neht ekil yarts eht lluoy tib I haey ot ,morf gni \n",
      "\n",
      "[11m 48s (600 60%) 2.0379]\n",
      "WhO\n",
      "?tup ym lla senog tuo eseht ,no reh evol ,ecnuo tuB\n",
      "pees ot wonk uoy kcarc os ees annaw uoy ni ew  \n",
      "\n",
      "[13m 46s (700 70%) 1.7201]\n",
      "WhO\n",
      "ti pot taht ekil eksittil ot erehT\n",
      " aht kcolG ydob ym meht ym ti tsil m'I\n",
      "s'taht morf floG\n",
      "yeh ,uo \n",
      "\n",
      "[15m 45s (800 80%) 1.8362]\n",
      "WhO\n",
      "tcap ,ag niw emitnals eht tuB\n",
      "dna ekam skcorb yreve thgil tuB\n",
      "evael yb tnemod eht ni tsuj I\n",
      "em no  \n",
      "\n",
      "[17m 43s (900 90%) 1.8441]\n",
      "Wh em tuoba erdaerhp erommI\n",
      "eidom eht htiw kcuf a gnidlim taeB\n",
      "egyno evil ti won s'taht ,emit yeht tuo \n",
      "\n",
      "[19m 42s (1000 100%) 1.7604]\n",
      "WhEA\n",
      "iccnitraer eht erus eht thgil tsed renod oT\n",
      "ybab eb gnireht dna gniklat atto tahw ,enoT ,ynnadraM \n",
      "\n"
     ]
    }
   ],
   "source": [
    "backward_generator.train(reverted_lyrics, n_epochs, print_every=100)"
   ]
  },
  {
   "cell_type": "code",
   "execution_count": 11,
   "metadata": {},
   "outputs": [],
   "source": [
    "import pickle"
   ]
  },
  {
   "cell_type": "code",
   "execution_count": 12,
   "metadata": {},
   "outputs": [],
   "source": [
    "with open('forward_generator.pkl', 'wb') as file:\n",
    "    pickle.dump(forward_generator, file)"
   ]
  },
  {
   "cell_type": "code",
   "execution_count": 13,
   "metadata": {},
   "outputs": [],
   "source": [
    "with open('backward_generator.pkl', 'wb') as file:\n",
    "    pickle.dump(backward_generator, file)"
   ]
  },
  {
   "cell_type": "code",
   "execution_count": 14,
   "metadata": {},
   "outputs": [],
   "source": [
    "def trim_line(line):\n",
    "    return line.split('\\n')[0]"
   ]
  },
  {
   "cell_type": "code",
   "execution_count": 41,
   "metadata": {},
   "outputs": [],
   "source": [
    "def remove_half_words(line):\n",
    "    line = line.strip()\n",
    "    tokens = line.split(' ')\n",
    "    first = tokens[0]\n",
    "    if first not in words:\n",
    "        res = ' '.join(tokens[1:])\n",
    "        return res[0].upper() + res[:]\n",
    "    else:\n",
    "        return line[0].upper() + line[1:]"
   ]
  },
  {
   "cell_type": "code",
   "execution_count": 51,
   "metadata": {},
   "outputs": [],
   "source": [
    "def generate_bidirectional_lyrics(forward_generator, backward_generator, n_lines=8):\n",
    "    lines = []\n",
    "    while True:\n",
    "        line = trim_line(forward_generator.generate(\"Ok\", 50, 0.5))\n",
    "        last_word = line.split(' ')[-1]\n",
    "        try:\n",
    "            rhyme = find_rhyme(last_word)\n",
    "            lines.append(line)\n",
    "            break\n",
    "        except:\n",
    "            continue\n",
    "    for i in range(1, n_lines):\n",
    "        while True:\n",
    "            line = trim_line(revert(backward_generator.generate(revert(rhyme), 60, 0.5)))\n",
    "            last_word = line.split(' ')[-1]\n",
    "            try:\n",
    "                rhyme = find_rhyme(last_word)\n",
    "                lines.append(line)\n",
    "                break\n",
    "            except:\n",
    "                continue\n",
    "    return '\\n'.join(lines)"
   ]
  },
  {
   "cell_type": "code",
   "execution_count": 52,
   "metadata": {},
   "outputs": [
    {
     "name": "stdout",
     "output_type": "stream",
     "text": [
      "Ok now, you got got money at your Pater\n",
      "t out it bitch in my mothers, and, getties out the just the skater\n",
      "I want out the waiters\n",
      "oes all out a greace, in the stries, I need to every in the creators\n",
      "I give there act, I cashed to, me in my nigga player\n",
      "I ain't was the take to raider\n",
      "That's a back out a raider\n",
      "out and can't best out me make to them dires, I ain't gone, mayer\n",
      "Fuckin' that me gone fire, thing, I got entertainers\n",
      "er and there me, why out on the draprects, get me out to my endangers\n",
      "But they dangers\n",
      " and my shit, I'm rapressed to top tell they in my make the pager\n",
      "I don't give thing in the strangers\n",
      "I head to this gainers\n",
      "ing, ever cause roes, have in the mine, man and best have a retainer\n",
      "that ever and and of that about me out me, I've have that's strangers\n"
     ]
    }
   ],
   "source": [
    "print(generate_bidirectional_lyrics(forward_generator, backward_generator, n_lines=16))"
   ]
  },
  {
   "cell_type": "code",
   "execution_count": null,
   "metadata": {},
   "outputs": [],
   "source": []
  }
 ],
 "metadata": {
  "kernelspec": {
   "display_name": "Python 3",
   "language": "python",
   "name": "python3"
  },
  "language_info": {
   "codemirror_mode": {
    "name": "ipython",
    "version": 3
   },
   "file_extension": ".py",
   "mimetype": "text/x-python",
   "name": "python",
   "nbconvert_exporter": "python",
   "pygments_lexer": "ipython3",
   "version": "3.7.3"
  }
 },
 "nbformat": 4,
 "nbformat_minor": 2
}
